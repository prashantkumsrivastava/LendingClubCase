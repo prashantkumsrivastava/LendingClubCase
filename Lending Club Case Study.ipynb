{
 "cells": [
  {
   "cell_type": "markdown",
   "metadata": {},
   "source": [
    "## Assignment Lending Club Case Study\n",
    "#### Check Point 1: Import All libraries and set Session Variables "
   ]
  },
  {
   "cell_type": "code",
   "execution_count": 132,
   "metadata": {},
   "outputs": [],
   "source": [
    "import ast,sys\n",
    "import numpy as np\n",
    "import pandas as pd\n",
    "import matplotlib.pyplot as plt\n",
    "\n",
    "# the commonly used alias for seaborn is sns\n",
    "import seaborn as sns\n",
    "\n",
    "# set a seaborn style of your taste\n",
    "sns.set_style(\"whitegrid\")\n",
    "\n",
    "pd.options.mode.chained_assignment = None  # default='warn'\n",
    "pd.options.display.float_format = '{:,.2f}'.format\n",
    "pd.set_option('display.max_rows', 100)\n",
    "pd.set_option('display.max_columns', 100)\n",
    "pd.set_option('display.width', 1000)"
   ]
  },
  {
   "cell_type": "markdown",
   "metadata": {},
   "source": [
    "#### Load the Loan.csv Data file in Pandas"
   ]
  },
  {
   "cell_type": "code",
   "execution_count": 122,
   "metadata": {},
   "outputs": [],
   "source": [
    "#load loan data in loan dataframe\n",
    "loan = pd.read_csv('C:\\\\Users\\\\Prashant\\\\Documents\\\\iiitb\\\\Lending-Club-Case-Study\\\\loan.csv', delimiter = \",\", \n",
    "                   header=0, encoding = \"ISO-8859-1\", low_memory=False,skipinitialspace=True)\n"
   ]
  },
  {
   "cell_type": "markdown",
   "metadata": {},
   "source": [
    "#### Cleanup the code, for below points\n",
    "   ##### Drop all columns with NA values\n",
    "   ##### Drop all rows with NA or Null values for data consistancy\n",
    "   ##### take teh count of sum isnull.sum , must be 0 for all rws/cols left for analysis "
   ]
  },
  {
   "cell_type": "code",
   "execution_count": 124,
   "metadata": {},
   "outputs": [
    {
     "data": {
      "text/plain": [
       "id                                    0\n",
       "member_id                             0\n",
       "loan_amnt                             0\n",
       "funded_amnt                           0\n",
       "funded_amnt_inv                       0\n",
       "term                                  0\n",
       "int_rate                              0\n",
       "installment                           0\n",
       "grade                                 0\n",
       "sub_grade                             0\n",
       "emp_title                          2459\n",
       "emp_length                         1075\n",
       "home_ownership                        0\n",
       "annual_inc                            0\n",
       "verification_status                   0\n",
       "issue_d                               0\n",
       "loan_status                           0\n",
       "pymnt_plan                            0\n",
       "url                                   0\n",
       "desc                              12940\n",
       "purpose                               0\n",
       "title                                11\n",
       "zip_code                              0\n",
       "addr_state                            0\n",
       "dti                                   0\n",
       "delinq_2yrs                           0\n",
       "earliest_cr_line                      0\n",
       "inq_last_6mths                        0\n",
       "mths_since_last_delinq            25682\n",
       "mths_since_last_record            36931\n",
       "open_acc                              0\n",
       "pub_rec                               0\n",
       "revol_bal                             0\n",
       "revol_util                           50\n",
       "total_acc                             0\n",
       "initial_list_status                   0\n",
       "out_prncp                             0\n",
       "out_prncp_inv                         0\n",
       "total_pymnt                           0\n",
       "total_pymnt_inv                       0\n",
       "total_rec_prncp                       0\n",
       "total_rec_int                         0\n",
       "total_rec_late_fee                    0\n",
       "recoveries                            0\n",
       "collection_recovery_fee               0\n",
       "last_pymnt_d                         71\n",
       "last_pymnt_amnt                       0\n",
       "next_pymnt_d                      38577\n",
       "last_credit_pull_d                    2\n",
       "collections_12_mths_ex_med           56\n",
       "                                  ...  \n",
       "open_il_12m                       39717\n",
       "open_il_24m                       39717\n",
       "mths_since_rcnt_il                39717\n",
       "total_bal_il                      39717\n",
       "il_util                           39717\n",
       "open_rv_12m                       39717\n",
       "open_rv_24m                       39717\n",
       "max_bal_bc                        39717\n",
       "all_util                          39717\n",
       "total_rev_hi_lim                  39717\n",
       "inq_fi                            39717\n",
       "total_cu_tl                       39717\n",
       "inq_last_12m                      39717\n",
       "acc_open_past_24mths              39717\n",
       "avg_cur_bal                       39717\n",
       "bc_open_to_buy                    39717\n",
       "bc_util                           39717\n",
       "chargeoff_within_12_mths             56\n",
       "delinq_amnt                           0\n",
       "mo_sin_old_il_acct                39717\n",
       "mo_sin_old_rev_tl_op              39717\n",
       "mo_sin_rcnt_rev_tl_op             39717\n",
       "mo_sin_rcnt_tl                    39717\n",
       "mort_acc                          39717\n",
       "mths_since_recent_bc              39717\n",
       "mths_since_recent_bc_dlq          39717\n",
       "mths_since_recent_inq             39717\n",
       "mths_since_recent_revol_delinq    39717\n",
       "num_accts_ever_120_pd             39717\n",
       "num_actv_bc_tl                    39717\n",
       "num_actv_rev_tl                   39717\n",
       "num_bc_sats                       39717\n",
       "num_bc_tl                         39717\n",
       "num_il_tl                         39717\n",
       "num_op_rev_tl                     39717\n",
       "num_rev_accts                     39717\n",
       "num_rev_tl_bal_gt_0               39717\n",
       "num_sats                          39717\n",
       "num_tl_120dpd_2m                  39717\n",
       "num_tl_30dpd                      39717\n",
       "num_tl_90g_dpd_24m                39717\n",
       "num_tl_op_past_12m                39717\n",
       "pct_tl_nvr_dlq                    39717\n",
       "percent_bc_gt_75                  39717\n",
       "pub_rec_bankruptcies                697\n",
       "tax_liens                            39\n",
       "tot_hi_cred_lim                   39717\n",
       "total_bal_ex_mort                 39717\n",
       "total_bc_limit                    39717\n",
       "total_il_high_credit_limit        39717\n",
       "Length: 111, dtype: int64"
      ]
     },
     "execution_count": 124,
     "metadata": {},
     "output_type": "execute_result"
    }
   ],
   "source": [
    "## pre cleanup couny of all null values \n",
    "loan.isnull().sum()"
   ]
  },
  {
   "cell_type": "markdown",
   "metadata": {},
   "source": [
    "#### Checkpoint 2 : Data Cleanup activities"
   ]
  },
  {
   "cell_type": "code",
   "execution_count": 125,
   "metadata": {},
   "outputs": [],
   "source": [
    "#Cleaning DATA\n",
    "\n",
    "#For calculation remove the months text from term , remove special characters from other fields\n",
    "loan[\"term\"] = loan[\"term\"].apply(lambda x : int(x.replace(\"months\", \"\")))\n",
    "loan[\"int_rate\"] = loan[\"int_rate\"].apply(lambda x : str(x).replace(\"%\", \"\"))\n",
    "loan.emp_length.replace({r'[^0-9]+':''}, regex=True, inplace=True);\n",
    "\n",
    "#remove empty rows\n",
    "loan = loan[ loan[\"revol_util\"].apply(lambda x: str(type(x))) == \"<class 'str'>\" ]\n",
    "loan[\"revol_util\"] = loan[\"revol_util\"].apply(lambda x : str(x).replace(\"%\", \"\"))\n",
    "\n",
    "# Below columsn contan max null values, hebce useless for analysis ; dropping them from Data\n",
    "loan.drop(columns=['mo_sin_old_rev_tl_op','mo_sin_rcnt_rev_tl_op','mo_sin_rcnt_tl','mort_acc','mths_since_recent_bc'], inplace = True)\n",
    "loan.drop(columns=['mths_since_recent_inq','mths_since_recent_revol_delinq','num_accts_ever_120_pd','num_actv_bc_tl'], inplace = True)\n",
    "loan.drop(columns=['num_actv_rev_tl','num_bc_sats','num_bc_tl','num_il_tl','num_op_rev_tl','num_rev_accts'], inplace = True)\n",
    "loan.drop(columns=['num_sats','num_tl_120dpd_2m','num_tl_30dpd','num_tl_90g_dpd_24m','num_tl_op_past_12m'], inplace = True)\n",
    "loan.drop(columns=['pct_tl_nvr_dlq','percent_bc_gt_75','tot_hi_cred_lim','total_bal_ex_mort'], inplace = True)\n",
    "loan.drop(columns=['total_bc_limit','total_il_high_credit_limit'], inplace = True)\n",
    "loan.drop(columns=['mths_since_recent_bc_dlq','num_rev_tl_bal_gt_0'], inplace = True)\n",
    "loan.drop(columns=['annual_inc_joint','dti_joint','verification_status_joint','tot_coll_amt'], inplace = True)\n",
    "loan.drop(columns=['tot_cur_bal','open_acc_6m','open_il_6m','open_il_12m','open_il_24m'], inplace = True)\n",
    "loan.drop(columns=['mths_since_rcnt_il','total_bal_il','il_util','open_rv_12m','open_rv_24m'], inplace = True)\n",
    "loan.drop(columns=['max_bal_bc','all_util','total_rev_hi_lim','inq_fi','total_cu_tl'], inplace = True)\n",
    "loan.drop(columns=['inq_last_12m','acc_open_past_24mths','avg_cur_bal','bc_open_to_buy'], inplace = True)\n",
    "loan.drop(columns=['bc_util','mo_sin_old_il_acct','mths_since_last_major_derog'], inplace = True)\n",
    "loan.drop(columns=['next_pymnt_d','mths_since_last_delinq','mths_since_last_record','desc','emp_title'],inplace = True)\n",
    "loan.drop(columns=['zip_code','title','url','policy_code','application_type','pymnt_plan'],inplace = True)\n",
    "\n",
    "# Below rows contain limited Null Values, dropping all Null rows from data\n",
    "loan.dropna(subset=['pub_rec_bankruptcies'],inplace=True)\n",
    "loan.dropna(subset=['tax_liens'],inplace=True)\n",
    "loan.dropna(subset=['chargeoff_within_12_mths'],inplace=True)\n",
    "loan.dropna(subset=['collections_12_mths_ex_med'],inplace=True)\n",
    "loan.dropna(subset=['last_pymnt_d'],inplace=True)\n",
    "loan.dropna(subset=['emp_length'],inplace=True)\n",
    "loan.dropna(subset=['last_credit_pull_d'],inplace=True)\n",
    "            \n",
    "\n"
   ]
  },
  {
   "cell_type": "markdown",
   "metadata": {},
   "source": [
    "#### Check count of Null alues , at this point its all cleaned data "
   ]
  },
  {
   "cell_type": "code",
   "execution_count": 126,
   "metadata": {
    "scrolled": true
   },
   "outputs": [
    {
     "data": {
      "text/plain": [
       "id                            0\n",
       "member_id                     0\n",
       "loan_amnt                     0\n",
       "funded_amnt                   0\n",
       "funded_amnt_inv               0\n",
       "term                          0\n",
       "int_rate                      0\n",
       "installment                   0\n",
       "grade                         0\n",
       "sub_grade                     0\n",
       "emp_length                    0\n",
       "home_ownership                0\n",
       "annual_inc                    0\n",
       "verification_status           0\n",
       "issue_d                       0\n",
       "loan_status                   0\n",
       "purpose                       0\n",
       "addr_state                    0\n",
       "dti                           0\n",
       "delinq_2yrs                   0\n",
       "earliest_cr_line              0\n",
       "inq_last_6mths                0\n",
       "open_acc                      0\n",
       "pub_rec                       0\n",
       "revol_bal                     0\n",
       "revol_util                    0\n",
       "total_acc                     0\n",
       "initial_list_status           0\n",
       "out_prncp                     0\n",
       "out_prncp_inv                 0\n",
       "total_pymnt                   0\n",
       "total_pymnt_inv               0\n",
       "total_rec_prncp               0\n",
       "total_rec_int                 0\n",
       "total_rec_late_fee            0\n",
       "recoveries                    0\n",
       "collection_recovery_fee       0\n",
       "last_pymnt_d                  0\n",
       "last_pymnt_amnt               0\n",
       "last_credit_pull_d            0\n",
       "collections_12_mths_ex_med    0\n",
       "acc_now_delinq                0\n",
       "chargeoff_within_12_mths      0\n",
       "delinq_amnt                   0\n",
       "pub_rec_bankruptcies          0\n",
       "tax_liens                     0\n",
       "dtype: int64"
      ]
     },
     "execution_count": 126,
     "metadata": {},
     "output_type": "execute_result"
    }
   ],
   "source": [
    "loan.isnull().sum()"
   ]
  },
  {
   "cell_type": "markdown",
   "metadata": {},
   "source": [
    "#### Calculcte Adidtional columns for Loans "
   ]
  },
  {
   "cell_type": "code",
   "execution_count": 127,
   "metadata": {},
   "outputs": [],
   "source": [
    "# creat new joint columns for grade+subgrade for plotting\n",
    "loan['loan_grade'] = loan.grade + loan.sub_grade"
   ]
  },
  {
   "cell_type": "code",
   "execution_count": 128,
   "metadata": {},
   "outputs": [],
   "source": [
    "#create new calc column for EAD ( Exposure at default given by current outstading of loan)\n",
    "loan['EAD'] = abs(loan.total_pymnt -(loan.total_rec_prncp + loan.total_rec_int+loan.total_rec_late_fee))"
   ]
  },
  {
   "cell_type": "code",
   "execution_count": 129,
   "metadata": {},
   "outputs": [
    {
     "data": {
      "text/html": [
       "<div>\n",
       "<style scoped>\n",
       "    .dataframe tbody tr th:only-of-type {\n",
       "        vertical-align: middle;\n",
       "    }\n",
       "\n",
       "    .dataframe tbody tr th {\n",
       "        vertical-align: top;\n",
       "    }\n",
       "\n",
       "    .dataframe thead th {\n",
       "        text-align: right;\n",
       "    }\n",
       "</style>\n",
       "<table border=\"1\" class=\"dataframe\">\n",
       "  <thead>\n",
       "    <tr style=\"text-align: right;\">\n",
       "      <th></th>\n",
       "      <th>id</th>\n",
       "      <th>member_id</th>\n",
       "      <th>loan_amnt</th>\n",
       "      <th>funded_amnt</th>\n",
       "      <th>funded_amnt_inv</th>\n",
       "      <th>term</th>\n",
       "      <th>int_rate</th>\n",
       "      <th>installment</th>\n",
       "      <th>grade</th>\n",
       "      <th>sub_grade</th>\n",
       "      <th>emp_length</th>\n",
       "      <th>home_ownership</th>\n",
       "      <th>annual_inc</th>\n",
       "      <th>verification_status</th>\n",
       "      <th>issue_d</th>\n",
       "      <th>loan_status</th>\n",
       "      <th>purpose</th>\n",
       "      <th>addr_state</th>\n",
       "      <th>dti</th>\n",
       "      <th>delinq_2yrs</th>\n",
       "      <th>earliest_cr_line</th>\n",
       "      <th>inq_last_6mths</th>\n",
       "      <th>open_acc</th>\n",
       "      <th>pub_rec</th>\n",
       "      <th>revol_bal</th>\n",
       "      <th>revol_util</th>\n",
       "      <th>total_acc</th>\n",
       "      <th>initial_list_status</th>\n",
       "      <th>out_prncp</th>\n",
       "      <th>out_prncp_inv</th>\n",
       "      <th>total_pymnt</th>\n",
       "      <th>total_pymnt_inv</th>\n",
       "      <th>total_rec_prncp</th>\n",
       "      <th>total_rec_int</th>\n",
       "      <th>total_rec_late_fee</th>\n",
       "      <th>recoveries</th>\n",
       "      <th>collection_recovery_fee</th>\n",
       "      <th>last_pymnt_d</th>\n",
       "      <th>last_pymnt_amnt</th>\n",
       "      <th>last_credit_pull_d</th>\n",
       "      <th>collections_12_mths_ex_med</th>\n",
       "      <th>acc_now_delinq</th>\n",
       "      <th>chargeoff_within_12_mths</th>\n",
       "      <th>delinq_amnt</th>\n",
       "      <th>pub_rec_bankruptcies</th>\n",
       "      <th>tax_liens</th>\n",
       "      <th>loan_grade</th>\n",
       "      <th>EAD</th>\n",
       "    </tr>\n",
       "  </thead>\n",
       "  <tbody>\n",
       "    <tr>\n",
       "      <th>0</th>\n",
       "      <td>1077501</td>\n",
       "      <td>1296599</td>\n",
       "      <td>5000</td>\n",
       "      <td>5000</td>\n",
       "      <td>4,975.00</td>\n",
       "      <td>36</td>\n",
       "      <td>10.65</td>\n",
       "      <td>162.87</td>\n",
       "      <td>B</td>\n",
       "      <td>B2</td>\n",
       "      <td>10</td>\n",
       "      <td>RENT</td>\n",
       "      <td>24,000.00</td>\n",
       "      <td>Verified</td>\n",
       "      <td>Dec-11</td>\n",
       "      <td>Fully Paid</td>\n",
       "      <td>credit_card</td>\n",
       "      <td>AZ</td>\n",
       "      <td>27.65</td>\n",
       "      <td>0</td>\n",
       "      <td>Jan-85</td>\n",
       "      <td>1</td>\n",
       "      <td>3</td>\n",
       "      <td>0</td>\n",
       "      <td>13648</td>\n",
       "      <td>83.70</td>\n",
       "      <td>9</td>\n",
       "      <td>f</td>\n",
       "      <td>0.00</td>\n",
       "      <td>0.00</td>\n",
       "      <td>5,863.16</td>\n",
       "      <td>5,833.84</td>\n",
       "      <td>5,000.00</td>\n",
       "      <td>863.16</td>\n",
       "      <td>0.00</td>\n",
       "      <td>0.00</td>\n",
       "      <td>0.00</td>\n",
       "      <td>Jan-15</td>\n",
       "      <td>171.62</td>\n",
       "      <td>May-16</td>\n",
       "      <td>0.00</td>\n",
       "      <td>0</td>\n",
       "      <td>0.00</td>\n",
       "      <td>0</td>\n",
       "      <td>0.00</td>\n",
       "      <td>0.00</td>\n",
       "      <td>BB2</td>\n",
       "      <td>0.00</td>\n",
       "    </tr>\n",
       "    <tr>\n",
       "      <th>1</th>\n",
       "      <td>1077430</td>\n",
       "      <td>1314167</td>\n",
       "      <td>2500</td>\n",
       "      <td>2500</td>\n",
       "      <td>2,500.00</td>\n",
       "      <td>60</td>\n",
       "      <td>15.27</td>\n",
       "      <td>59.83</td>\n",
       "      <td>C</td>\n",
       "      <td>C4</td>\n",
       "      <td>1</td>\n",
       "      <td>RENT</td>\n",
       "      <td>30,000.00</td>\n",
       "      <td>Source Verified</td>\n",
       "      <td>Dec-11</td>\n",
       "      <td>Charged Off</td>\n",
       "      <td>car</td>\n",
       "      <td>GA</td>\n",
       "      <td>1.00</td>\n",
       "      <td>0</td>\n",
       "      <td>Apr-99</td>\n",
       "      <td>5</td>\n",
       "      <td>3</td>\n",
       "      <td>0</td>\n",
       "      <td>1687</td>\n",
       "      <td>9.40</td>\n",
       "      <td>4</td>\n",
       "      <td>f</td>\n",
       "      <td>0.00</td>\n",
       "      <td>0.00</td>\n",
       "      <td>1,008.71</td>\n",
       "      <td>1,008.71</td>\n",
       "      <td>456.46</td>\n",
       "      <td>435.17</td>\n",
       "      <td>0.00</td>\n",
       "      <td>117.08</td>\n",
       "      <td>1.11</td>\n",
       "      <td>Apr-13</td>\n",
       "      <td>119.66</td>\n",
       "      <td>Sep-13</td>\n",
       "      <td>0.00</td>\n",
       "      <td>0</td>\n",
       "      <td>0.00</td>\n",
       "      <td>0</td>\n",
       "      <td>0.00</td>\n",
       "      <td>0.00</td>\n",
       "      <td>CC4</td>\n",
       "      <td>117.08</td>\n",
       "    </tr>\n",
       "    <tr>\n",
       "      <th>2</th>\n",
       "      <td>1077175</td>\n",
       "      <td>1313524</td>\n",
       "      <td>2400</td>\n",
       "      <td>2400</td>\n",
       "      <td>2,400.00</td>\n",
       "      <td>36</td>\n",
       "      <td>15.96</td>\n",
       "      <td>84.33</td>\n",
       "      <td>C</td>\n",
       "      <td>C5</td>\n",
       "      <td>10</td>\n",
       "      <td>RENT</td>\n",
       "      <td>12,252.00</td>\n",
       "      <td>Not Verified</td>\n",
       "      <td>Dec-11</td>\n",
       "      <td>Fully Paid</td>\n",
       "      <td>small_business</td>\n",
       "      <td>IL</td>\n",
       "      <td>8.72</td>\n",
       "      <td>0</td>\n",
       "      <td>Nov-01</td>\n",
       "      <td>2</td>\n",
       "      <td>2</td>\n",
       "      <td>0</td>\n",
       "      <td>2956</td>\n",
       "      <td>98.50</td>\n",
       "      <td>10</td>\n",
       "      <td>f</td>\n",
       "      <td>0.00</td>\n",
       "      <td>0.00</td>\n",
       "      <td>3,005.67</td>\n",
       "      <td>3,005.67</td>\n",
       "      <td>2,400.00</td>\n",
       "      <td>605.67</td>\n",
       "      <td>0.00</td>\n",
       "      <td>0.00</td>\n",
       "      <td>0.00</td>\n",
       "      <td>Jun-14</td>\n",
       "      <td>649.91</td>\n",
       "      <td>May-16</td>\n",
       "      <td>0.00</td>\n",
       "      <td>0</td>\n",
       "      <td>0.00</td>\n",
       "      <td>0</td>\n",
       "      <td>0.00</td>\n",
       "      <td>0.00</td>\n",
       "      <td>CC5</td>\n",
       "      <td>0.00</td>\n",
       "    </tr>\n",
       "    <tr>\n",
       "      <th>3</th>\n",
       "      <td>1076863</td>\n",
       "      <td>1277178</td>\n",
       "      <td>10000</td>\n",
       "      <td>10000</td>\n",
       "      <td>10,000.00</td>\n",
       "      <td>36</td>\n",
       "      <td>13.49</td>\n",
       "      <td>339.31</td>\n",
       "      <td>C</td>\n",
       "      <td>C1</td>\n",
       "      <td>10</td>\n",
       "      <td>RENT</td>\n",
       "      <td>49,200.00</td>\n",
       "      <td>Source Verified</td>\n",
       "      <td>Dec-11</td>\n",
       "      <td>Fully Paid</td>\n",
       "      <td>other</td>\n",
       "      <td>CA</td>\n",
       "      <td>20.00</td>\n",
       "      <td>0</td>\n",
       "      <td>Feb-96</td>\n",
       "      <td>1</td>\n",
       "      <td>10</td>\n",
       "      <td>0</td>\n",
       "      <td>5598</td>\n",
       "      <td>21</td>\n",
       "      <td>37</td>\n",
       "      <td>f</td>\n",
       "      <td>0.00</td>\n",
       "      <td>0.00</td>\n",
       "      <td>12,231.89</td>\n",
       "      <td>12,231.89</td>\n",
       "      <td>10,000.00</td>\n",
       "      <td>2,214.92</td>\n",
       "      <td>16.97</td>\n",
       "      <td>0.00</td>\n",
       "      <td>0.00</td>\n",
       "      <td>Jan-15</td>\n",
       "      <td>357.48</td>\n",
       "      <td>Apr-16</td>\n",
       "      <td>0.00</td>\n",
       "      <td>0</td>\n",
       "      <td>0.00</td>\n",
       "      <td>0</td>\n",
       "      <td>0.00</td>\n",
       "      <td>0.00</td>\n",
       "      <td>CC1</td>\n",
       "      <td>0.00</td>\n",
       "    </tr>\n",
       "    <tr>\n",
       "      <th>4</th>\n",
       "      <td>1075358</td>\n",
       "      <td>1311748</td>\n",
       "      <td>3000</td>\n",
       "      <td>3000</td>\n",
       "      <td>3,000.00</td>\n",
       "      <td>60</td>\n",
       "      <td>12.69</td>\n",
       "      <td>67.79</td>\n",
       "      <td>B</td>\n",
       "      <td>B5</td>\n",
       "      <td>1</td>\n",
       "      <td>RENT</td>\n",
       "      <td>80,000.00</td>\n",
       "      <td>Source Verified</td>\n",
       "      <td>Dec-11</td>\n",
       "      <td>Current</td>\n",
       "      <td>other</td>\n",
       "      <td>OR</td>\n",
       "      <td>17.94</td>\n",
       "      <td>0</td>\n",
       "      <td>Jan-96</td>\n",
       "      <td>0</td>\n",
       "      <td>15</td>\n",
       "      <td>0</td>\n",
       "      <td>27783</td>\n",
       "      <td>53.90</td>\n",
       "      <td>38</td>\n",
       "      <td>f</td>\n",
       "      <td>524.06</td>\n",
       "      <td>524.06</td>\n",
       "      <td>3,513.33</td>\n",
       "      <td>3,513.33</td>\n",
       "      <td>2,475.94</td>\n",
       "      <td>1,037.39</td>\n",
       "      <td>0.00</td>\n",
       "      <td>0.00</td>\n",
       "      <td>0.00</td>\n",
       "      <td>May-16</td>\n",
       "      <td>67.79</td>\n",
       "      <td>May-16</td>\n",
       "      <td>0.00</td>\n",
       "      <td>0</td>\n",
       "      <td>0.00</td>\n",
       "      <td>0</td>\n",
       "      <td>0.00</td>\n",
       "      <td>0.00</td>\n",
       "      <td>BB5</td>\n",
       "      <td>0.00</td>\n",
       "    </tr>\n",
       "  </tbody>\n",
       "</table>\n",
       "</div>"
      ],
      "text/plain": [
       "        id  member_id  loan_amnt  funded_amnt  funded_amnt_inv  term int_rate  installment grade sub_grade emp_length home_ownership  annual_inc verification_status issue_d  loan_status         purpose addr_state   dti  delinq_2yrs earliest_cr_line  inq_last_6mths  open_acc  pub_rec  revol_bal revol_util  total_acc initial_list_status  out_prncp  out_prncp_inv  total_pymnt  total_pymnt_inv  total_rec_prncp  total_rec_int  total_rec_late_fee  recoveries  collection_recovery_fee last_pymnt_d  last_pymnt_amnt last_credit_pull_d  collections_12_mths_ex_med  acc_now_delinq  chargeoff_within_12_mths  delinq_amnt  pub_rec_bankruptcies  tax_liens loan_grade    EAD\n",
       "0  1077501    1296599       5000         5000         4,975.00    36    10.65       162.87     B        B2         10           RENT   24,000.00            Verified  Dec-11   Fully Paid     credit_card         AZ 27.65            0           Jan-85               1         3        0      13648      83.70          9                   f       0.00           0.00     5,863.16         5,833.84         5,000.00         863.16                0.00        0.00                     0.00       Jan-15           171.62             May-16                        0.00               0                      0.00            0                  0.00       0.00        BB2   0.00\n",
       "1  1077430    1314167       2500         2500         2,500.00    60    15.27        59.83     C        C4          1           RENT   30,000.00     Source Verified  Dec-11  Charged Off             car         GA  1.00            0           Apr-99               5         3        0       1687       9.40          4                   f       0.00           0.00     1,008.71         1,008.71           456.46         435.17                0.00      117.08                     1.11       Apr-13           119.66             Sep-13                        0.00               0                      0.00            0                  0.00       0.00        CC4 117.08\n",
       "2  1077175    1313524       2400         2400         2,400.00    36    15.96        84.33     C        C5         10           RENT   12,252.00        Not Verified  Dec-11   Fully Paid  small_business         IL  8.72            0           Nov-01               2         2        0       2956      98.50         10                   f       0.00           0.00     3,005.67         3,005.67         2,400.00         605.67                0.00        0.00                     0.00       Jun-14           649.91             May-16                        0.00               0                      0.00            0                  0.00       0.00        CC5   0.00\n",
       "3  1076863    1277178      10000        10000        10,000.00    36    13.49       339.31     C        C1         10           RENT   49,200.00     Source Verified  Dec-11   Fully Paid           other         CA 20.00            0           Feb-96               1        10        0       5598         21         37                   f       0.00           0.00    12,231.89        12,231.89        10,000.00       2,214.92               16.97        0.00                     0.00       Jan-15           357.48             Apr-16                        0.00               0                      0.00            0                  0.00       0.00        CC1   0.00\n",
       "4  1075358    1311748       3000         3000         3,000.00    60    12.69        67.79     B        B5          1           RENT   80,000.00     Source Verified  Dec-11      Current           other         OR 17.94            0           Jan-96               0        15        0      27783      53.90         38                   f     524.06         524.06     3,513.33         3,513.33         2,475.94       1,037.39                0.00        0.00                     0.00       May-16            67.79             May-16                        0.00               0                      0.00            0                  0.00       0.00        BB5   0.00"
      ]
     },
     "execution_count": 129,
     "metadata": {},
     "output_type": "execute_result"
    }
   ],
   "source": [
    "loan.head(5)"
   ]
  },
  {
   "cell_type": "markdown",
   "metadata": {},
   "source": [
    "#### Checkpoint 3 : PLot relationship of NPA loans with difrent variables"
   ]
  },
  {
   "cell_type": "markdown",
   "metadata": {},
   "source": [
    "#### Checkpoint 3:1 npa_loans relation with home ownership/loan_status "
   ]
  },
  {
   "cell_type": "code",
   "execution_count": 137,
   "metadata": {
    "scrolled": true
   },
   "outputs": [
    {
     "data": {
      "image/png": "[encoded data removed]",
      "text/plain": [
       "<Figure size 842.4x595.44 with 1 Axes>"
      ]
     },
     "metadata": {},
     "output_type": "display_data"
    }
   ],
   "source": [
    "#npa_loans relation with home ownership/loan_status \n",
    "%matplotlib inline  \n",
    "sns.set(rc={'figure.figsize':(11.7,8.27)})\n",
    "sns.set_style(\"whitegrid\")\n",
    "df1 = loan.groupby(['loan_status','home_ownership']).size().to_frame(name = 'count').reset_index()\n",
    "ax = sns.barplot(x='home_ownership', y='count',hue='loan_status' , data=df1,orient='H')"
   ]
  },
  {
   "cell_type": "markdown",
   "metadata": {},
   "source": [
    "#### Home Ownership seems to relate to NPS Defaults, Own homes Buyers have less defaults than Rental, or Mortagaged Home Buyers"
   ]
  },
  {
   "cell_type": "markdown",
   "metadata": {},
   "source": [
    "#### Checkpoint 3:2 npa_loans relation with loan_grade/loan_status "
   ]
  },
  {
   "cell_type": "code",
   "execution_count": 138,
   "metadata": {
    "scrolled": false
   },
   "outputs": [
    {
     "data": {
      "image/png": "[encoded data removed]",
      "text/plain": [
       "<Figure size 842.4x595.44 with 1 Axes>"
      ]
     },
     "metadata": {},
     "output_type": "display_data"
    }
   ],
   "source": [
    "#npa_loans relation with loan_grade/loan_status \n",
    "%matplotlib inline  \n",
    "sns.set(rc={'figure.figsize':(11.7,8.27)})\n",
    "sns.set_style(\"whitegrid\")\n",
    "df2 = loan.groupby(['loan_status','loan_grade']).size().to_frame(name = 'count').reset_index()\n",
    "ax2 = sns.barplot(x='loan_status', y='count',hue='loan_grade' , data=df2,orient='H')"
   ]
  },
  {
   "cell_type": "markdown",
   "metadata": {},
   "source": [
    "#### Loan Grade seems to normally dstributed for  NPA Defaults, Maximum loans being defaulted under BB1 TO DD5 Category"
   ]
  },
  {
   "cell_type": "markdown",
   "metadata": {},
   "source": [
    "#### Checkpoint 3:3 npa_loans relation with grade, sub_grade/loan_status "
   ]
  },
  {
   "cell_type": "code",
   "execution_count": 140,
   "metadata": {},
   "outputs": [
    {
     "data": {
      "image/png": "[encoded data removed]",
      "text/plain": [
       "<Figure size 842.4x595.44 with 1 Axes>"
      ]
     },
     "metadata": {},
     "output_type": "display_data"
    }
   ],
   "source": [
    "#npa_loans relation with grade/loan_status \n",
    "%matplotlib inline  \n",
    "sns.set(rc={'figure.figsize':(11.7,8.27)})\n",
    "sns.set_style(\"whitegrid\")\n",
    "df2 = loan.groupby(['loan_status','grade','sub_grade']).size().to_frame(name = 'count').reset_index()\n",
    "ax2 = sns.barplot(x='loan_status', y='count',hue='grade' , data=df2,orient='H')"
   ]
  },
  {
   "cell_type": "code",
   "execution_count": 141,
   "metadata": {},
   "outputs": [
    {
     "data": {
      "image/png": "[encoded data removed]",
      "text/plain": [
       "<Figure size 842.4x595.44 with 1 Axes>"
      ]
     },
     "metadata": {},
     "output_type": "display_data"
    }
   ],
   "source": [
    "#npa_loans relation with sub_grade/loan_status \n",
    "%matplotlib inline  \n",
    "sns.set(rc={'figure.figsize':(11.7,8.27)})\n",
    "sns.set_style(\"whitegrid\")\n",
    "ax3 = sns.barplot(x='loan_status', y='count',hue='sub_grade' , data=df2,orient='H')"
   ]
  },
  {
   "cell_type": "markdown",
   "metadata": {},
   "source": [
    "#### Loan Grade shows small correlation with Loan defaults, maximum default loans NPS faling under Categor Rating B,C,D \\n\n",
    "#### subgrade seems to have minimal impact on the dfault rate , Major group Grade determines NPA's"
   ]
  },
  {
   "cell_type": "code",
   "execution_count": null,
   "metadata": {},
   "outputs": [],
   "source": []
  }
 ],
 "metadata": {
  "kernelspec": {
   "display_name": "Python 3",
   "language": "python",
   "name": "python3"
  },
  "language_info": {
   "codemirror_mode": {
    "name": "ipython",
    "version": 3
   },
   "file_extension": ".py",
   "mimetype": "text/x-python",
   "name": "python",
   "nbconvert_exporter": "python",
   "pygments_lexer": "ipython3",
   "version": "3.7.1"
  }
 },
 "nbformat": 4,
 "nbformat_minor": 2
}
